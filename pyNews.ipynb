{
  "cells": [
    {
      "cell_type": "markdown",
      "metadata": {
        "id": "view-in-github",
        "colab_type": "text"
      },
      "source": [
        "<a href=\"https://colab.research.google.com/github/astidwis7/news_topic_classification/blob/main/pyNews.ipynb\" target=\"_parent\"><img src=\"https://colab.research.google.com/assets/colab-badge.svg\" alt=\"Open In Colab\"/></a>"
      ]
    },
    {
      "cell_type": "markdown",
      "source": [
        "***Python program to classify News Topic using Machine Learning***"
      ],
      "metadata": {
        "id": "em0eqxwGbHdC"
      }
    },
    {
      "cell_type": "markdown",
      "source": [
        "Link to open the dataset --> [news](https://drive.google.com/drive/folders/1vMWTDdWQGXqtViSxKEZVR8vgIRFe--0Y?usp=sharing)"
      ],
      "metadata": {
        "id": "9XmjLILlmFcK"
      }
    },
    {
      "cell_type": "code",
      "execution_count": null,
      "metadata": {
        "id": "iiIVX1N50YKo"
      },
      "outputs": [],
      "source": [
        "# retrieve news data\n",
        "\n",
        "import glob\n",
        "import json\n",
        "\n",
        "!unzip !unzip /content/news.zip\n",
        "\n",
        "path = glob.glob(\"/content/Indonesian news corpus/json/*.json\")\n",
        "\n",
        "content = []\n",
        "category = []\n",
        "for _ in path:\n",
        "  f = open(_)\n",
        "  data = json.load(f)\n",
        "  for i in data:\n",
        "    content.append(i['isi'])\n",
        "  for i in data:\n",
        "    category.append(i['kategori'])\n",
        "  f.close()"
      ]
    },
    {
      "cell_type": "code",
      "execution_count": 3,
      "metadata": {
        "id": "4FRSqDJS4URI"
      },
      "outputs": [],
      "source": [
        "# news text cleaning & labeling\n",
        "\n",
        "import pandas as pd\n",
        "import re\n",
        "\n",
        "category_ = list(pd.unique(pd.Series(category)))\n",
        "\n",
        "news = []\n",
        "label = []\n",
        "for count, _ in enumerate(category_):\n",
        "  for i in range(len(content)):\n",
        "    if category[i] == _:\n",
        "      if len(news) < (count+1)*1250:\n",
        "        content[i]=content[i].lower()\n",
        "        content[i]=re.sub('[^ A-Za-z]','',content[i])\n",
        "        news.append(' '.join(content[i].split()[3:]))\n",
        "        label.append(count)"
      ]
    },
    {
      "cell_type": "markdown",
      "source": [
        "Link to open the vocab data --> [vocab](https://drive.google.com/file/d/103hrEbKWygdx7D-6F_cbna1nx0Oz5AvU/view?usp=sharing)"
      ],
      "metadata": {
        "id": "Zfkgh28wrTvM"
      }
    },
    {
      "cell_type": "code",
      "execution_count": 5,
      "metadata": {
        "id": "0_M9w3Db29QT"
      },
      "outputs": [],
      "source": [
        "# generate word vectors using TF-IDF\n",
        "\n",
        "from sklearn.feature_extraction.text import TfidfVectorizer\n",
        "import numpy as np\n",
        "\n",
        "word = pd.read_fwf('/content/vocab.txt')\n",
        "\n",
        "tfidfvectorizer = TfidfVectorizer(use_idf=True)\n",
        "tfidfvectorizer.fit(word['Laskar Pelangi'])\n",
        "\n",
        "vocab = tfidfvectorizer.get_feature_names_out()\n",
        "vocab = np.array(vocab)"
      ]
    },
    {
      "cell_type": "code",
      "execution_count": 6,
      "metadata": {
        "id": "bEUqerRh94Ft"
      },
      "outputs": [],
      "source": [
        "# accommodate foreign words in the news\n",
        "\n",
        "new_word = []\n",
        "for _ in news:\n",
        "  sentence_ = np.asarray(_.split(' '))\n",
        "  new_word_ = sentence_[np.array([word not in vocab for word in sentence_]) == True]\n",
        "  new_word.append(new_word_)"
      ]
    },
    {
      "cell_type": "code",
      "execution_count": 7,
      "metadata": {
        "id": "1wnLsy0xBsFy"
      },
      "outputs": [],
      "source": [
        "# takes the top 50 words in the news\n",
        "\n",
        "news_ = []\n",
        "this_much = 50\n",
        "for count, _ in enumerate(news):\n",
        "  word_ = tfidfvectorizer.transform([_]).todense()\n",
        "  significant_word = np.argsort(np.asarray(word_.sum(axis=0)).ravel())[::-1]\n",
        "  top_word = vocab[significant_word[:this_much]]\n",
        "  new_word_dan_top_word = np.concatenate((new_word[count], top_word))[:this_much]\n",
        "  news_.append(\" \".join(new_word_dan_top_word))"
      ]
    },
    {
      "cell_type": "code",
      "source": [
        "# retrieves the text and label of each news item\n",
        "\n",
        "data_ = pd.DataFrame(pd.DataFrame([np.asarray(news_), np.asarray(label)]).values.T)\n",
        "\n",
        "x = data_.iloc[:,0].values\n",
        "y = data_.iloc[:,1].values"
      ],
      "metadata": {
        "id": "93sTScKvzO8f"
      },
      "execution_count": 8,
      "outputs": []
    },
    {
      "cell_type": "code",
      "execution_count": 9,
      "metadata": {
        "id": "y6VPhQtjpDYv"
      },
      "outputs": [],
      "source": [
        "# randomize data\n",
        "\n",
        "import random\n",
        "import numpy as np\n",
        "\n",
        "x_ = []\n",
        "for _ in x:\n",
        "  x_.append(_)\n",
        "y_ = []\n",
        "for _ in y:\n",
        "  y_.append(_)\n",
        "\n",
        "b = list(zip(x_, y_))\n",
        "random.shuffle(b)\n",
        "x_, y_ = zip(*b)\n",
        "x_ = list(x_)\n",
        "y_ = list(y_)"
      ]
    },
    {
      "cell_type": "code",
      "execution_count": null,
      "metadata": {
        "id": "UKlwAIgGwzVP"
      },
      "outputs": [],
      "source": [
        "# vectorization with TF-IDF on the news data\n",
        "\n",
        "from sklearn.feature_extraction.text import TfidfVectorizer  \n",
        "tfidfvectorizer_ = TfidfVectorizer(use_idf=True, max_features=100)\n",
        "tfidfvectorizer_.fit(x_)\n",
        "\n",
        "x_t = tfidfvectorizer_.transform(x_).toarray()\n",
        "\n",
        "tfidfvectorizer_.get_feature_names_out()"
      ]
    },
    {
      "cell_type": "code",
      "execution_count": 13,
      "metadata": {
        "colab": {
          "base_uri": "https://localhost:8080/",
          "height": 179
        },
        "id": "hMab6OJjr3da",
        "outputId": "7834cb79-ec5c-492e-f6a1-21f074b417dd"
      },
      "outputs": [
        {
          "output_type": "stream",
          "name": "stderr",
          "text": [
            "/usr/local/lib/python3.10/dist-packages/sklearn/neural_network/_multilayer_perceptron.py:686: ConvergenceWarning: Stochastic Optimizer: Maximum iterations (300) reached and the optimization hasn't converged yet.\n",
            "  warnings.warn(\n"
          ]
        },
        {
          "output_type": "execute_result",
          "data": {
            "text/plain": [
              "Pipeline(steps=[('standardscaler', StandardScaler()),\n",
              "                ('sgdclassifier', SGDClassifier())])"
            ],
            "text/html": [
              "<style>#sk-container-id-1 {color: black;background-color: white;}#sk-container-id-1 pre{padding: 0;}#sk-container-id-1 div.sk-toggleable {background-color: white;}#sk-container-id-1 label.sk-toggleable__label {cursor: pointer;display: block;width: 100%;margin-bottom: 0;padding: 0.3em;box-sizing: border-box;text-align: center;}#sk-container-id-1 label.sk-toggleable__label-arrow:before {content: \"▸\";float: left;margin-right: 0.25em;color: #696969;}#sk-container-id-1 label.sk-toggleable__label-arrow:hover:before {color: black;}#sk-container-id-1 div.sk-estimator:hover label.sk-toggleable__label-arrow:before {color: black;}#sk-container-id-1 div.sk-toggleable__content {max-height: 0;max-width: 0;overflow: hidden;text-align: left;background-color: #f0f8ff;}#sk-container-id-1 div.sk-toggleable__content pre {margin: 0.2em;color: black;border-radius: 0.25em;background-color: #f0f8ff;}#sk-container-id-1 input.sk-toggleable__control:checked~div.sk-toggleable__content {max-height: 200px;max-width: 100%;overflow: auto;}#sk-container-id-1 input.sk-toggleable__control:checked~label.sk-toggleable__label-arrow:before {content: \"▾\";}#sk-container-id-1 div.sk-estimator input.sk-toggleable__control:checked~label.sk-toggleable__label {background-color: #d4ebff;}#sk-container-id-1 div.sk-label input.sk-toggleable__control:checked~label.sk-toggleable__label {background-color: #d4ebff;}#sk-container-id-1 input.sk-hidden--visually {border: 0;clip: rect(1px 1px 1px 1px);clip: rect(1px, 1px, 1px, 1px);height: 1px;margin: -1px;overflow: hidden;padding: 0;position: absolute;width: 1px;}#sk-container-id-1 div.sk-estimator {font-family: monospace;background-color: #f0f8ff;border: 1px dotted black;border-radius: 0.25em;box-sizing: border-box;margin-bottom: 0.5em;}#sk-container-id-1 div.sk-estimator:hover {background-color: #d4ebff;}#sk-container-id-1 div.sk-parallel-item::after {content: \"\";width: 100%;border-bottom: 1px solid gray;flex-grow: 1;}#sk-container-id-1 div.sk-label:hover label.sk-toggleable__label {background-color: #d4ebff;}#sk-container-id-1 div.sk-serial::before {content: \"\";position: absolute;border-left: 1px solid gray;box-sizing: border-box;top: 0;bottom: 0;left: 50%;z-index: 0;}#sk-container-id-1 div.sk-serial {display: flex;flex-direction: column;align-items: center;background-color: white;padding-right: 0.2em;padding-left: 0.2em;position: relative;}#sk-container-id-1 div.sk-item {position: relative;z-index: 1;}#sk-container-id-1 div.sk-parallel {display: flex;align-items: stretch;justify-content: center;background-color: white;position: relative;}#sk-container-id-1 div.sk-item::before, #sk-container-id-1 div.sk-parallel-item::before {content: \"\";position: absolute;border-left: 1px solid gray;box-sizing: border-box;top: 0;bottom: 0;left: 50%;z-index: -1;}#sk-container-id-1 div.sk-parallel-item {display: flex;flex-direction: column;z-index: 1;position: relative;background-color: white;}#sk-container-id-1 div.sk-parallel-item:first-child::after {align-self: flex-end;width: 50%;}#sk-container-id-1 div.sk-parallel-item:last-child::after {align-self: flex-start;width: 50%;}#sk-container-id-1 div.sk-parallel-item:only-child::after {width: 0;}#sk-container-id-1 div.sk-dashed-wrapped {border: 1px dashed gray;margin: 0 0.4em 0.5em 0.4em;box-sizing: border-box;padding-bottom: 0.4em;background-color: white;}#sk-container-id-1 div.sk-label label {font-family: monospace;font-weight: bold;display: inline-block;line-height: 1.2em;}#sk-container-id-1 div.sk-label-container {text-align: center;}#sk-container-id-1 div.sk-container {/* jupyter's `normalize.less` sets `[hidden] { display: none; }` but bootstrap.min.css set `[hidden] { display: none !important; }` so we also need the `!important` here to be able to override the default hidden behavior on the sphinx rendered scikit-learn.org. See: https://github.com/scikit-learn/scikit-learn/issues/21755 */display: inline-block !important;position: relative;}#sk-container-id-1 div.sk-text-repr-fallback {display: none;}</style><div id=\"sk-container-id-1\" class=\"sk-top-container\"><div class=\"sk-text-repr-fallback\"><pre>Pipeline(steps=[(&#x27;standardscaler&#x27;, StandardScaler()),\n",
              "                (&#x27;sgdclassifier&#x27;, SGDClassifier())])</pre><b>In a Jupyter environment, please rerun this cell to show the HTML representation or trust the notebook. <br />On GitHub, the HTML representation is unable to render, please try loading this page with nbviewer.org.</b></div><div class=\"sk-container\" hidden><div class=\"sk-item sk-dashed-wrapped\"><div class=\"sk-label-container\"><div class=\"sk-label sk-toggleable\"><input class=\"sk-toggleable__control sk-hidden--visually\" id=\"sk-estimator-id-1\" type=\"checkbox\" ><label for=\"sk-estimator-id-1\" class=\"sk-toggleable__label sk-toggleable__label-arrow\">Pipeline</label><div class=\"sk-toggleable__content\"><pre>Pipeline(steps=[(&#x27;standardscaler&#x27;, StandardScaler()),\n",
              "                (&#x27;sgdclassifier&#x27;, SGDClassifier())])</pre></div></div></div><div class=\"sk-serial\"><div class=\"sk-item\"><div class=\"sk-estimator sk-toggleable\"><input class=\"sk-toggleable__control sk-hidden--visually\" id=\"sk-estimator-id-2\" type=\"checkbox\" ><label for=\"sk-estimator-id-2\" class=\"sk-toggleable__label sk-toggleable__label-arrow\">StandardScaler</label><div class=\"sk-toggleable__content\"><pre>StandardScaler()</pre></div></div></div><div class=\"sk-item\"><div class=\"sk-estimator sk-toggleable\"><input class=\"sk-toggleable__control sk-hidden--visually\" id=\"sk-estimator-id-3\" type=\"checkbox\" ><label for=\"sk-estimator-id-3\" class=\"sk-toggleable__label sk-toggleable__label-arrow\">SGDClassifier</label><div class=\"sk-toggleable__content\"><pre>SGDClassifier()</pre></div></div></div></div></div></div></div>"
            ]
          },
          "metadata": {},
          "execution_count": 13
        }
      ],
      "source": [
        "# classification using machine learning\n",
        "\n",
        "from sklearn.neighbors import KNeighborsClassifier\n",
        "from sklearn.naive_bayes import GaussianNB\n",
        "from sklearn.ensemble import RandomForestClassifier\n",
        "from sklearn import svm\n",
        "from sklearn.neural_network import MLPClassifier\n",
        "from sklearn.linear_model import RidgeClassifier\n",
        "from sklearn.linear_model import SGDClassifier\n",
        "from sklearn.preprocessing import StandardScaler\n",
        "from sklearn.pipeline import make_pipeline\n",
        "\n",
        "neigh = KNeighborsClassifier(n_neighbors=7)\n",
        "clf = GaussianNB()\n",
        "ran = RandomForestClassifier(max_depth=2, random_state=0)\n",
        "cls = svm.SVC()\n",
        "mlp = MLPClassifier(random_state=1, max_iter=300)\n",
        "ridge = RidgeClassifier(alpha=1.0)\n",
        "sgd = make_pipeline(StandardScaler(),SGDClassifier(max_iter=1000, tol=1e-3))\n",
        "\n",
        "neigh.fit(x_t, y_)\n",
        "clf.fit(x_t, y_)\n",
        "ran.fit(x_t, y_)\n",
        "cls.fit(x_t, y_)\n",
        "mlp.fit(x_t, y_)\n",
        "ridge.fit(x_t, y_)\n",
        "sgd.fit(x_t, y_)"
      ]
    },
    {
      "cell_type": "code",
      "execution_count": 24,
      "metadata": {
        "colab": {
          "base_uri": "https://localhost:8080/"
        },
        "id": "_TkNODiWugDv",
        "outputId": "2558cdbf-33a5-4fd6-d911-8e3a2fa75c1a"
      },
      "outputs": [
        {
          "output_type": "stream",
          "name": "stdout",
          "text": [
            "0.6575\n",
            "0.4989\n",
            "0.5541\n",
            "0.7065\n",
            "0.7372\n",
            "0.6283\n",
            "0.5964\n"
          ]
        }
      ],
      "source": [
        "# displays the score of each classification algorithm\n",
        "\n",
        "print(neigh.score(x_t, y_))\n",
        "print(clf.score(x_t, y_))\n",
        "print(ran.score(x_t, y_))\n",
        "print(cls.score(x_t, y_))\n",
        "print(mlp.score(x_t, y_))\n",
        "print(ridge.score(x_t, y_))\n",
        "print(sgd.score(x_t, y_))"
      ]
    },
    {
      "cell_type": "code",
      "source": [
        "# predict using MLP\n",
        "\n",
        "mlp_pred = mlp.predict(x_t)"
      ],
      "metadata": {
        "id": "884OGWkzI5t9"
      },
      "execution_count": 26,
      "outputs": []
    },
    {
      "cell_type": "code",
      "source": [
        "# classification visualization using MLP\n",
        "\n",
        "from sklearn.metrics import confusion_matrix\n",
        "import seaborn as sns\n",
        "\n",
        "cm = confusion_matrix(y_, mlp_pred)\n",
        "sns.heatmap(cm)"
      ],
      "metadata": {
        "colab": {
          "base_uri": "https://localhost:8080/",
          "height": 447
        },
        "id": "oikDqX8sS7wN",
        "outputId": "7bc68686-5650-4ce0-cf4e-35ac80355008"
      },
      "execution_count": 36,
      "outputs": [
        {
          "output_type": "execute_result",
          "data": {
            "text/plain": [
              "<Axes: >"
            ]
          },
          "metadata": {},
          "execution_count": 36
        },
        {
          "output_type": "display_data",
          "data": {
            "text/plain": [
              "<Figure size 640x480 with 2 Axes>"
            ],
            "image/png": "[encoded data removed]"
          },
          "metadata": {}
        }
      ]
    },
    {
      "cell_type": "code",
      "source": [
        "# classification report via MLP\n",
        "\n",
        "from sklearn.metrics import classification_report\n",
        "\n",
        "print (classification_report(y_, mlp_pred))"
      ],
      "metadata": {
        "colab": {
          "base_uri": "https://localhost:8080/"
        },
        "id": "0IkS9EimfwVQ",
        "outputId": "1859939a-d03b-4fac-9da3-60f5d1af22bd"
      },
      "execution_count": 37,
      "outputs": [
        {
          "output_type": "stream",
          "name": "stdout",
          "text": [
            "              precision    recall  f1-score   support\n",
            "\n",
            "           0       0.78      0.66      0.72      1250\n",
            "           1       0.65      0.70      0.68      1250\n",
            "           2       0.53      0.73      0.62      1250\n",
            "           3       0.91      0.72      0.80      1250\n",
            "           4       0.80      0.80      0.80      1250\n",
            "           5       0.89      0.88      0.88      1250\n",
            "           6       0.62      0.62      0.62      1250\n",
            "           7       0.85      0.80      0.82      1250\n",
            "\n",
            "    accuracy                           0.74     10000\n",
            "   macro avg       0.75      0.74      0.74     10000\n",
            "weighted avg       0.75      0.74      0.74     10000\n",
            "\n"
          ]
        }
      ]
    }
  ],
  "metadata": {
    "colab": {
      "provenance": [],
      "include_colab_link": true
    },
    "kernelspec": {
      "display_name": "Python 3",
      "name": "python3"
    },
    "language_info": {
      "name": "python"
    }
  },
  "nbformat": 4,
  "nbformat_minor": 0
}